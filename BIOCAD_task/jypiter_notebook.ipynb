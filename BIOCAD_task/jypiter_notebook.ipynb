{
  "cells": [
    {
      "cell_type": "markdown",
      "metadata": {
        "id": "kMsdFryXyWle"
      },
      "source": [
        "<center style=\"font-size: 26px\"> <b>Проверка уровня знаний Python</b></center>"
      ]
    },
    {
      "cell_type": "code",
      "execution_count": null,
      "metadata": {
        "id": "YtADpcuPyWlg"
      },
      "outputs": [],
      "source": [
        "# обеспечиваем совместимость с Python 2 и 3\n",
        "from __future__ import (absolute_import, division, print_function, unicode_literals)\n",
        "\n",
        "# отключаем предупреждения дистрибутива Anaconda\n",
        "import warnings\n",
        "warnings.simplefilter('ignore')"
      ]
    },
    {
      "cell_type": "markdown",
      "metadata": {
        "id": "CscYbn-FyWli"
      },
      "source": [
        "**Описание датасета:**   \n",
        "[Датасет вакансий с платформы HH.ru на Kaggle.com](https://www.kaggle.com/datasets/pavfedotov/heaadhunter-vacancies?resource=download&select=df2021-08-03.csv) \n",
        "\n",
        "Нужный файл - df2021-08-03.csv.\n",
        "\n",
        "- *vacancy* - наименование вакансии\n",
        "- *url* - ссылка на вакансию\n",
        "- *created* - дата и время создания\n",
        "- *has_test* - наличие тестового задания в вакансии\n",
        "- *salary_from* - нижняя граница значения заработной платы\n",
        "- *salary_to* - верхняя граница значения заработной платы\n",
        "- *currency* - валюта заработной платы\n",
        "- *experience* - требуемый опыт\n",
        "- *schedule* - тип рабочего графика\n",
        "- *skills* - требуемые навыки\n",
        "- *employer* - наименование работодателя\n",
        "- *area* - наименование города\n",
        "- *description* - описание вакансии"
      ]
    },
    {
      "cell_type": "markdown",
      "metadata": {
        "id": "cwZco57dyWlk"
      },
      "source": [
        "#### Загрузите датасет"
      ]
    },
    {
      "cell_type": "code",
      "source": [
        "import pandas as pd\n",
        "import datetime as dt\n",
        "import xml.etree.ElementTree as et\n",
        "import requests\n",
        "import time"
      ],
      "metadata": {
        "id": "iztDCBdzywi5"
      },
      "execution_count": null,
      "outputs": []
    },
    {
      "cell_type": "code",
      "execution_count": null,
      "metadata": {
        "colab": {
          "base_uri": "https://localhost:8080/",
          "height": 214
        },
        "id": "ivNSH-ZpyWlk",
        "outputId": "9385930a-3b68-464e-a2c6-05396163f935"
      },
      "outputs": [
        {
          "output_type": "execute_result",
          "data": {
            "text/plain": [
              "                                 vacancy  \\\n",
              "0  Backend/Full-stack developer (python)   \n",
              "\n",
              "                                                 url  \\\n",
              "0  https://hh.ru/applicant/vacancy_response?vacan...   \n",
              "\n",
              "                    created  has_test  salary_from  salary_to currency  \\\n",
              "0  2021-08-01T13:02:48+0300     False     120000.0        NaN      RUR   \n",
              "\n",
              "           experience       schedule                          skills employer  \\\n",
              "0  От 1 года до 3 лет  Гибкий график  Python;PostgreSQL;Linux;Flask;   ATI.SU   \n",
              "\n",
              "              area                                        description  \n",
              "0  Санкт-Петербург  Привет! Мы ATI.SU ― крупнейшая в России компан...  "
            ],
            "text/html": [
              "\n",
              "  <div id=\"df-883d79fa-b8b9-4f0f-8b57-90a5ed8719bb\">\n",
              "    <div class=\"colab-df-container\">\n",
              "      <div>\n",
              "<style scoped>\n",
              "    .dataframe tbody tr th:only-of-type {\n",
              "        vertical-align: middle;\n",
              "    }\n",
              "\n",
              "    .dataframe tbody tr th {\n",
              "        vertical-align: top;\n",
              "    }\n",
              "\n",
              "    .dataframe thead th {\n",
              "        text-align: right;\n",
              "    }\n",
              "</style>\n",
              "<table border=\"1\" class=\"dataframe\">\n",
              "  <thead>\n",
              "    <tr style=\"text-align: right;\">\n",
              "      <th></th>\n",
              "      <th>vacancy</th>\n",
              "      <th>url</th>\n",
              "      <th>created</th>\n",
              "      <th>has_test</th>\n",
              "      <th>salary_from</th>\n",
              "      <th>salary_to</th>\n",
              "      <th>currency</th>\n",
              "      <th>experience</th>\n",
              "      <th>schedule</th>\n",
              "      <th>skills</th>\n",
              "      <th>employer</th>\n",
              "      <th>area</th>\n",
              "      <th>description</th>\n",
              "    </tr>\n",
              "  </thead>\n",
              "  <tbody>\n",
              "    <tr>\n",
              "      <th>0</th>\n",
              "      <td>Backend/Full-stack developer (python)</td>\n",
              "      <td>https://hh.ru/applicant/vacancy_response?vacan...</td>\n",
              "      <td>2021-08-01T13:02:48+0300</td>\n",
              "      <td>False</td>\n",
              "      <td>120000.0</td>\n",
              "      <td>NaN</td>\n",
              "      <td>RUR</td>\n",
              "      <td>От 1 года до 3 лет</td>\n",
              "      <td>Гибкий график</td>\n",
              "      <td>Python;PostgreSQL;Linux;Flask;</td>\n",
              "      <td>ATI.SU</td>\n",
              "      <td>Санкт-Петербург</td>\n",
              "      <td>Привет! Мы ATI.SU ― крупнейшая в России компан...</td>\n",
              "    </tr>\n",
              "  </tbody>\n",
              "</table>\n",
              "</div>\n",
              "      <button class=\"colab-df-convert\" onclick=\"convertToInteractive('df-883d79fa-b8b9-4f0f-8b57-90a5ed8719bb')\"\n",
              "              title=\"Convert this dataframe to an interactive table.\"\n",
              "              style=\"display:none;\">\n",
              "        \n",
              "  <svg xmlns=\"http://www.w3.org/2000/svg\" height=\"24px\"viewBox=\"0 0 24 24\"\n",
              "       width=\"24px\">\n",
              "    <path d=\"M0 0h24v24H0V0z\" fill=\"none\"/>\n",
              "    <path d=\"M18.56 5.44l.94 2.06.94-2.06 2.06-.94-2.06-.94-.94-2.06-.94 2.06-2.06.94zm-11 1L8.5 8.5l.94-2.06 2.06-.94-2.06-.94L8.5 2.5l-.94 2.06-2.06.94zm10 10l.94 2.06.94-2.06 2.06-.94-2.06-.94-.94-2.06-.94 2.06-2.06.94z\"/><path d=\"M17.41 7.96l-1.37-1.37c-.4-.4-.92-.59-1.43-.59-.52 0-1.04.2-1.43.59L10.3 9.45l-7.72 7.72c-.78.78-.78 2.05 0 2.83L4 21.41c.39.39.9.59 1.41.59.51 0 1.02-.2 1.41-.59l7.78-7.78 2.81-2.81c.8-.78.8-2.07 0-2.86zM5.41 20L4 18.59l7.72-7.72 1.47 1.35L5.41 20z\"/>\n",
              "  </svg>\n",
              "      </button>\n",
              "      \n",
              "  <style>\n",
              "    .colab-df-container {\n",
              "      display:flex;\n",
              "      flex-wrap:wrap;\n",
              "      gap: 12px;\n",
              "    }\n",
              "\n",
              "    .colab-df-convert {\n",
              "      background-color: #E8F0FE;\n",
              "      border: none;\n",
              "      border-radius: 50%;\n",
              "      cursor: pointer;\n",
              "      display: none;\n",
              "      fill: #1967D2;\n",
              "      height: 32px;\n",
              "      padding: 0 0 0 0;\n",
              "      width: 32px;\n",
              "    }\n",
              "\n",
              "    .colab-df-convert:hover {\n",
              "      background-color: #E2EBFA;\n",
              "      box-shadow: 0px 1px 2px rgba(60, 64, 67, 0.3), 0px 1px 3px 1px rgba(60, 64, 67, 0.15);\n",
              "      fill: #174EA6;\n",
              "    }\n",
              "\n",
              "    [theme=dark] .colab-df-convert {\n",
              "      background-color: #3B4455;\n",
              "      fill: #D2E3FC;\n",
              "    }\n",
              "\n",
              "    [theme=dark] .colab-df-convert:hover {\n",
              "      background-color: #434B5C;\n",
              "      box-shadow: 0px 1px 3px 1px rgba(0, 0, 0, 0.15);\n",
              "      filter: drop-shadow(0px 1px 2px rgba(0, 0, 0, 0.3));\n",
              "      fill: #FFFFFF;\n",
              "    }\n",
              "  </style>\n",
              "\n",
              "      <script>\n",
              "        const buttonEl =\n",
              "          document.querySelector('#df-883d79fa-b8b9-4f0f-8b57-90a5ed8719bb button.colab-df-convert');\n",
              "        buttonEl.style.display =\n",
              "          google.colab.kernel.accessAllowed ? 'block' : 'none';\n",
              "\n",
              "        async function convertToInteractive(key) {\n",
              "          const element = document.querySelector('#df-883d79fa-b8b9-4f0f-8b57-90a5ed8719bb');\n",
              "          const dataTable =\n",
              "            await google.colab.kernel.invokeFunction('convertToInteractive',\n",
              "                                                     [key], {});\n",
              "          if (!dataTable) return;\n",
              "\n",
              "          const docLinkHtml = 'Like what you see? Visit the ' +\n",
              "            '<a target=\"_blank\" href=https://colab.research.google.com/notebooks/data_table.ipynb>data table notebook</a>'\n",
              "            + ' to learn more about interactive tables.';\n",
              "          element.innerHTML = '';\n",
              "          dataTable['output_type'] = 'display_data';\n",
              "          await google.colab.output.renderOutput(dataTable, element);\n",
              "          const docLink = document.createElement('div');\n",
              "          docLink.innerHTML = docLinkHtml;\n",
              "          element.appendChild(docLink);\n",
              "        }\n",
              "      </script>\n",
              "    </div>\n",
              "  </div>\n",
              "  "
            ]
          },
          "metadata": {},
          "execution_count": 322
        }
      ],
      "source": [
        "df = pd.read_csv('df2021-08-03.csv')\n",
        "df.head(1)"
      ]
    },
    {
      "cell_type": "markdown",
      "metadata": {
        "id": "-CGGawhFyWll"
      },
      "source": [
        "### Практические задания:"
      ]
    },
    {
      "cell_type": "markdown",
      "metadata": {
        "id": "2bjM-DbiyWll"
      },
      "source": [
        "#### 1. Изучите методы для сбора данных курсов валют в [API Центрального банка Российской Федерации](https://www.cbr.ru/development/SXML/) . Используя запросы к API, приведите значения заработной платы к рублям одним из вариантов: 1) простой вариант - на текущую дату  2) вариант посложнее - на дату создания (created)."
      ]
    },
    {
      "cell_type": "code",
      "execution_count": null,
      "metadata": {
        "scrolled": true,
        "colab": {
          "base_uri": "https://localhost:8080/"
        },
        "id": "PMUVQ4D-yWll",
        "outputId": "99fe18d5-290f-404c-baba-d6d8dec42890"
      },
      "outputs": [
        {
          "output_type": "execute_result",
          "data": {
            "text/plain": [
              "RUR    584\n",
              "USD     15\n",
              "EUR     14\n",
              "Name: currency, dtype: int64"
            ]
          },
          "metadata": {},
          "execution_count": 323
        }
      ],
      "source": [
        "df.currency.value_counts()\n",
        "# Проверяем наличие других валют"
      ]
    },
    {
      "cell_type": "code",
      "source": [
        "def parse_currency(cur, year, month, day):\n",
        "    result = {}\n",
        " \n",
        "  \n",
        "    get_xml = requests.get(\n",
        "        'http://www.cbr.ru/scripts/XML_daily.asp?date_req=%s/%s/%s' % (day, month, year)\n",
        "    )\n",
        "\n",
        "    # Парсинг XML используя ElementTree\n",
        "    structure = ET.fromstring(get_xml.content)\n",
        "    \n",
        "\n",
        "    if cur == 'USD':\n",
        "      try:\n",
        "          # Поиск курса доллара \n",
        "          dollar = structure.find(\"./*[@ID='R01235']/Value\")\n",
        "          result['dollar'] = dollar.text.replace(',', '.')\n",
        "      except:\n",
        "          result['dollar'] = 'x'\n",
        "    if cur == 'EUR':\n",
        "      try:\n",
        "          # Поиск курса евро\n",
        "          euro = structure.find(\"./*[@ID='R01239']/Value\")\n",
        "          result['euro'] = euro.text.replace(',', '.')\n",
        "      except:\n",
        "          result['euro'] = 'x'\n",
        "    return result"
      ],
      "metadata": {
        "id": "zDh1dz1FZ1Du"
      },
      "execution_count": null,
      "outputs": []
    },
    {
      "cell_type": "code",
      "source": [
        "i = 0\n",
        "ind = df.loc[df.currency == 'USD'].created.index\n",
        "for date in df.loc[df.currency == 'USD'].created:\n",
        "  result = parse_currency('USD', date[0:4], date[5:7], date[8:10])\n",
        "  if pd.isna(df.salary_from[ind[i]]) is False:\n",
        "    df.loc[ind[i], 'salary_from'] = df.salary_from[ind[i]] * float(result['dollar'])\n",
        "  if pd.isna(df.salary_to[ind[i]]) is False:\n",
        "    df.loc[ind[i], 'salary_to'] = df.salary_to[ind[i]] * float(result['dollar'])\n",
        "  df.loc[ind[i], 'currency'] = 'RUR'\n",
        "  time.sleep(1)\n",
        "  i+=1\n",
        "# парсинг для доллара"
      ],
      "metadata": {
        "id": "1iDi6qpSW2WX"
      },
      "execution_count": null,
      "outputs": []
    },
    {
      "cell_type": "code",
      "source": [
        "i = 0\n",
        "ind = df.loc[df.currency == 'EUR'].created.index\n",
        "for date in df.loc[df.currency == 'EUR'].created:\n",
        "  result = parse_currency('EUR', date[0:4], date[5:7], date[8:10])\n",
        "  if pd.isna(df.salary_from[ind[i]]) is False:\n",
        "    df.loc[ind[i], 'salary_from'] = df.salary_from[ind[i]] * float(result['euro'])\n",
        "  if pd.isna(df.salary_to[ind[i]]) is False:\n",
        "    df.loc[ind[i], 'salary_to'] = df.salary_to[ind[i]] * float(result['euro'])\n",
        "  df.loc[ind[i], 'currency'] = 'RUR'\n",
        "  time.sleep(1)\n",
        "  i+=1\n",
        "# парсинг для евро"
      ],
      "metadata": {
        "id": "IlhN6-adb4lc"
      },
      "execution_count": null,
      "outputs": []
    },
    {
      "cell_type": "markdown",
      "metadata": {
        "id": "iDz6sOo7yWlm"
      },
      "source": [
        "#### 2. Найдите вакансию с самой высокой заработной платой, где подойдет 4 года опыта работы и не нужно проходить тестовое задание."
      ]
    },
    {
      "cell_type": "code",
      "execution_count": null,
      "metadata": {
        "colab": {
          "base_uri": "https://localhost:8080/"
        },
        "id": "Iyf0gDi0yWlm",
        "outputId": "90c53f5a-cabc-43d7-e7fe-d104a3e6d24a"
      },
      "outputs": [
        {
          "output_type": "execute_result",
          "data": {
            "text/plain": [
              "vacancy        7\n",
              "url            7\n",
              "created        7\n",
              "has_test       7\n",
              "salary_from    6\n",
              "salary_to      7\n",
              "currency       7\n",
              "experience     7\n",
              "schedule       7\n",
              "skills         7\n",
              "employer       7\n",
              "area           7\n",
              "description    7\n",
              "dtype: int64"
            ]
          },
          "metadata": {},
          "execution_count": 188
        }
      ],
      "source": [
        "df[df.salary_to == df.loc[(df.experience != 'От 1 года до 3 лет') & (df.has_test == False)].salary_to.max()]\n",
        "# получилось 7 вакансий"
      ]
    },
    {
      "cell_type": "markdown",
      "metadata": {
        "id": "PXXMpU2XyWlm"
      },
      "source": [
        "#### 3. Сделайте рейтинг (топ-30) навыков по всем вакансиям."
      ]
    },
    {
      "cell_type": "code",
      "execution_count": null,
      "metadata": {
        "scrolled": true,
        "id": "iAIr4yWYyWln"
      },
      "outputs": [],
      "source": [
        "df.skills = df.skills.fillna('')\n",
        "lst = []\n",
        "for skill in range(len(df)):\n",
        "  lst.extend(df.skills[skill].split(';'))\n",
        "# перемещаю все скиллы в список по разделителю"
      ]
    },
    {
      "cell_type": "code",
      "source": [
        "from collections import Counter\n",
        "dct = Counter(lst)\n",
        "top_skill = pd.DataFrame(dct.items(), columns=['skill', 'count'])\n",
        "# создаю словарь на основе списка и далее датафрейм"
      ],
      "metadata": {
        "id": "vpzPLO-HtBjp"
      },
      "execution_count": null,
      "outputs": []
    },
    {
      "cell_type": "code",
      "source": [
        "top_skill.nlargest(30, 'count')"
      ],
      "metadata": {
        "colab": {
          "base_uri": "https://localhost:8080/",
          "height": 990
        },
        "id": "q0M88w1KupnS",
        "outputId": "efdc90b1-01b2-4fa8-8325-bce00a8cb2be"
      },
      "execution_count": null,
      "outputs": [
        {
          "output_type": "execute_result",
          "data": {
            "text/plain": [
              "                skill  count\n",
              "4                       1700\n",
              "0              Python   1442\n",
              "5                 Git    586\n",
              "24                SQL    501\n",
              "1          PostgreSQL    499\n",
              "9    Django Framework    467\n",
              "2               Linux    463\n",
              "3               Flask    177\n",
              "29             Docker    172\n",
              "18         JavaScript    149\n",
              "31    Английский язык    141\n",
              "22              MySQL    128\n",
              "41                ООП    120\n",
              "6             MongoDB    113\n",
              "7               Redis    107\n",
              "80               REST     70\n",
              "53           RabbitMQ     68\n",
              "57             Django     62\n",
              "11                CSS     56\n",
              "47               HTML     56\n",
              "39     Atlassian Jira     52\n",
              "20                C++     50\n",
              "93                API     49\n",
              "62             MS SQL     43\n",
              "127              Java     43\n",
              "23        Базы данных     41\n",
              "59   Работа в команде     39\n",
              "26                AWS     36\n",
              "12             Pytest     35\n",
              "42             Celery     35"
            ],
            "text/html": [
              "\n",
              "  <div id=\"df-20f60d96-5067-49ca-b4d7-26d91521b0cb\">\n",
              "    <div class=\"colab-df-container\">\n",
              "      <div>\n",
              "<style scoped>\n",
              "    .dataframe tbody tr th:only-of-type {\n",
              "        vertical-align: middle;\n",
              "    }\n",
              "\n",
              "    .dataframe tbody tr th {\n",
              "        vertical-align: top;\n",
              "    }\n",
              "\n",
              "    .dataframe thead th {\n",
              "        text-align: right;\n",
              "    }\n",
              "</style>\n",
              "<table border=\"1\" class=\"dataframe\">\n",
              "  <thead>\n",
              "    <tr style=\"text-align: right;\">\n",
              "      <th></th>\n",
              "      <th>skill</th>\n",
              "      <th>count</th>\n",
              "    </tr>\n",
              "  </thead>\n",
              "  <tbody>\n",
              "    <tr>\n",
              "      <th>4</th>\n",
              "      <td></td>\n",
              "      <td>1700</td>\n",
              "    </tr>\n",
              "    <tr>\n",
              "      <th>0</th>\n",
              "      <td>Python</td>\n",
              "      <td>1442</td>\n",
              "    </tr>\n",
              "    <tr>\n",
              "      <th>5</th>\n",
              "      <td>Git</td>\n",
              "      <td>586</td>\n",
              "    </tr>\n",
              "    <tr>\n",
              "      <th>24</th>\n",
              "      <td>SQL</td>\n",
              "      <td>501</td>\n",
              "    </tr>\n",
              "    <tr>\n",
              "      <th>1</th>\n",
              "      <td>PostgreSQL</td>\n",
              "      <td>499</td>\n",
              "    </tr>\n",
              "    <tr>\n",
              "      <th>9</th>\n",
              "      <td>Django Framework</td>\n",
              "      <td>467</td>\n",
              "    </tr>\n",
              "    <tr>\n",
              "      <th>2</th>\n",
              "      <td>Linux</td>\n",
              "      <td>463</td>\n",
              "    </tr>\n",
              "    <tr>\n",
              "      <th>3</th>\n",
              "      <td>Flask</td>\n",
              "      <td>177</td>\n",
              "    </tr>\n",
              "    <tr>\n",
              "      <th>29</th>\n",
              "      <td>Docker</td>\n",
              "      <td>172</td>\n",
              "    </tr>\n",
              "    <tr>\n",
              "      <th>18</th>\n",
              "      <td>JavaScript</td>\n",
              "      <td>149</td>\n",
              "    </tr>\n",
              "    <tr>\n",
              "      <th>31</th>\n",
              "      <td>Английский язык</td>\n",
              "      <td>141</td>\n",
              "    </tr>\n",
              "    <tr>\n",
              "      <th>22</th>\n",
              "      <td>MySQL</td>\n",
              "      <td>128</td>\n",
              "    </tr>\n",
              "    <tr>\n",
              "      <th>41</th>\n",
              "      <td>ООП</td>\n",
              "      <td>120</td>\n",
              "    </tr>\n",
              "    <tr>\n",
              "      <th>6</th>\n",
              "      <td>MongoDB</td>\n",
              "      <td>113</td>\n",
              "    </tr>\n",
              "    <tr>\n",
              "      <th>7</th>\n",
              "      <td>Redis</td>\n",
              "      <td>107</td>\n",
              "    </tr>\n",
              "    <tr>\n",
              "      <th>80</th>\n",
              "      <td>REST</td>\n",
              "      <td>70</td>\n",
              "    </tr>\n",
              "    <tr>\n",
              "      <th>53</th>\n",
              "      <td>RabbitMQ</td>\n",
              "      <td>68</td>\n",
              "    </tr>\n",
              "    <tr>\n",
              "      <th>57</th>\n",
              "      <td>Django</td>\n",
              "      <td>62</td>\n",
              "    </tr>\n",
              "    <tr>\n",
              "      <th>11</th>\n",
              "      <td>CSS</td>\n",
              "      <td>56</td>\n",
              "    </tr>\n",
              "    <tr>\n",
              "      <th>47</th>\n",
              "      <td>HTML</td>\n",
              "      <td>56</td>\n",
              "    </tr>\n",
              "    <tr>\n",
              "      <th>39</th>\n",
              "      <td>Atlassian Jira</td>\n",
              "      <td>52</td>\n",
              "    </tr>\n",
              "    <tr>\n",
              "      <th>20</th>\n",
              "      <td>C++</td>\n",
              "      <td>50</td>\n",
              "    </tr>\n",
              "    <tr>\n",
              "      <th>93</th>\n",
              "      <td>API</td>\n",
              "      <td>49</td>\n",
              "    </tr>\n",
              "    <tr>\n",
              "      <th>62</th>\n",
              "      <td>MS SQL</td>\n",
              "      <td>43</td>\n",
              "    </tr>\n",
              "    <tr>\n",
              "      <th>127</th>\n",
              "      <td>Java</td>\n",
              "      <td>43</td>\n",
              "    </tr>\n",
              "    <tr>\n",
              "      <th>23</th>\n",
              "      <td>Базы данных</td>\n",
              "      <td>41</td>\n",
              "    </tr>\n",
              "    <tr>\n",
              "      <th>59</th>\n",
              "      <td>Работа в команде</td>\n",
              "      <td>39</td>\n",
              "    </tr>\n",
              "    <tr>\n",
              "      <th>26</th>\n",
              "      <td>AWS</td>\n",
              "      <td>36</td>\n",
              "    </tr>\n",
              "    <tr>\n",
              "      <th>12</th>\n",
              "      <td>Pytest</td>\n",
              "      <td>35</td>\n",
              "    </tr>\n",
              "    <tr>\n",
              "      <th>42</th>\n",
              "      <td>Celery</td>\n",
              "      <td>35</td>\n",
              "    </tr>\n",
              "  </tbody>\n",
              "</table>\n",
              "</div>\n",
              "      <button class=\"colab-df-convert\" onclick=\"convertToInteractive('df-20f60d96-5067-49ca-b4d7-26d91521b0cb')\"\n",
              "              title=\"Convert this dataframe to an interactive table.\"\n",
              "              style=\"display:none;\">\n",
              "        \n",
              "  <svg xmlns=\"http://www.w3.org/2000/svg\" height=\"24px\"viewBox=\"0 0 24 24\"\n",
              "       width=\"24px\">\n",
              "    <path d=\"M0 0h24v24H0V0z\" fill=\"none\"/>\n",
              "    <path d=\"M18.56 5.44l.94 2.06.94-2.06 2.06-.94-2.06-.94-.94-2.06-.94 2.06-2.06.94zm-11 1L8.5 8.5l.94-2.06 2.06-.94-2.06-.94L8.5 2.5l-.94 2.06-2.06.94zm10 10l.94 2.06.94-2.06 2.06-.94-2.06-.94-.94-2.06-.94 2.06-2.06.94z\"/><path d=\"M17.41 7.96l-1.37-1.37c-.4-.4-.92-.59-1.43-.59-.52 0-1.04.2-1.43.59L10.3 9.45l-7.72 7.72c-.78.78-.78 2.05 0 2.83L4 21.41c.39.39.9.59 1.41.59.51 0 1.02-.2 1.41-.59l7.78-7.78 2.81-2.81c.8-.78.8-2.07 0-2.86zM5.41 20L4 18.59l7.72-7.72 1.47 1.35L5.41 20z\"/>\n",
              "  </svg>\n",
              "      </button>\n",
              "      \n",
              "  <style>\n",
              "    .colab-df-container {\n",
              "      display:flex;\n",
              "      flex-wrap:wrap;\n",
              "      gap: 12px;\n",
              "    }\n",
              "\n",
              "    .colab-df-convert {\n",
              "      background-color: #E8F0FE;\n",
              "      border: none;\n",
              "      border-radius: 50%;\n",
              "      cursor: pointer;\n",
              "      display: none;\n",
              "      fill: #1967D2;\n",
              "      height: 32px;\n",
              "      padding: 0 0 0 0;\n",
              "      width: 32px;\n",
              "    }\n",
              "\n",
              "    .colab-df-convert:hover {\n",
              "      background-color: #E2EBFA;\n",
              "      box-shadow: 0px 1px 2px rgba(60, 64, 67, 0.3), 0px 1px 3px 1px rgba(60, 64, 67, 0.15);\n",
              "      fill: #174EA6;\n",
              "    }\n",
              "\n",
              "    [theme=dark] .colab-df-convert {\n",
              "      background-color: #3B4455;\n",
              "      fill: #D2E3FC;\n",
              "    }\n",
              "\n",
              "    [theme=dark] .colab-df-convert:hover {\n",
              "      background-color: #434B5C;\n",
              "      box-shadow: 0px 1px 3px 1px rgba(0, 0, 0, 0.15);\n",
              "      filter: drop-shadow(0px 1px 2px rgba(0, 0, 0, 0.3));\n",
              "      fill: #FFFFFF;\n",
              "    }\n",
              "  </style>\n",
              "\n",
              "      <script>\n",
              "        const buttonEl =\n",
              "          document.querySelector('#df-20f60d96-5067-49ca-b4d7-26d91521b0cb button.colab-df-convert');\n",
              "        buttonEl.style.display =\n",
              "          google.colab.kernel.accessAllowed ? 'block' : 'none';\n",
              "\n",
              "        async function convertToInteractive(key) {\n",
              "          const element = document.querySelector('#df-20f60d96-5067-49ca-b4d7-26d91521b0cb');\n",
              "          const dataTable =\n",
              "            await google.colab.kernel.invokeFunction('convertToInteractive',\n",
              "                                                     [key], {});\n",
              "          if (!dataTable) return;\n",
              "\n",
              "          const docLinkHtml = 'Like what you see? Visit the ' +\n",
              "            '<a target=\"_blank\" href=https://colab.research.google.com/notebooks/data_table.ipynb>data table notebook</a>'\n",
              "            + ' to learn more about interactive tables.';\n",
              "          element.innerHTML = '';\n",
              "          dataTable['output_type'] = 'display_data';\n",
              "          await google.colab.output.renderOutput(dataTable, element);\n",
              "          const docLink = document.createElement('div');\n",
              "          docLink.innerHTML = docLinkHtml;\n",
              "          element.appendChild(docLink);\n",
              "        }\n",
              "      </script>\n",
              "    </div>\n",
              "  </div>\n",
              "  "
            ]
          },
          "metadata": {},
          "execution_count": 223
        }
      ]
    },
    {
      "cell_type": "markdown",
      "metadata": {
        "id": "5SHayedWyWlo"
      },
      "source": [
        "#### 4. Cоставьте топ-10 городов с наибольшей средней заработной платой по вакансиям тестировщика (QA)."
      ]
    },
    {
      "cell_type": "code",
      "execution_count": null,
      "metadata": {
        "colab": {
          "base_uri": "https://localhost:8080/",
          "height": 355
        },
        "id": "InhpRGgJyWlo",
        "outputId": "4ae81d36-726b-44c8-ac55-41a22793eeae"
      },
      "outputs": [
        {
          "output_type": "stream",
          "name": "stderr",
          "text": [
            "<ipython-input-250-08b139db7495>:1: FutureWarning: The default value of numeric_only in DataFrameGroupBy.mean is deprecated. In a future version, numeric_only will default to False. Either specify numeric_only or select only columns which should be valid for the function.\n",
            "  df[df['vacancy'].str.contains('QA')].groupby('area').mean().nlargest(10, ['salary_to'])\n"
          ]
        },
        {
          "output_type": "execute_result",
          "data": {
            "text/plain": [
              "                 has_test    salary_from      salary_to\n",
              "area                                                   \n",
              "Тамбов           0.000000  150000.000000  250000.000000\n",
              "Санкт-Петербург  0.047619  151250.000000  209285.714286\n",
              "Москва           0.000000  162857.142857  187142.857143\n",
              "Казань           0.000000   90000.000000            NaN\n",
              "Новосибирск      0.000000            NaN            NaN\n",
              "Самара           0.000000            NaN            NaN\n",
              "Саратов          0.000000            NaN            NaN"
            ],
            "text/html": [
              "\n",
              "  <div id=\"df-567bc1d3-abf7-40fb-9f6f-14f2b824d6e4\">\n",
              "    <div class=\"colab-df-container\">\n",
              "      <div>\n",
              "<style scoped>\n",
              "    .dataframe tbody tr th:only-of-type {\n",
              "        vertical-align: middle;\n",
              "    }\n",
              "\n",
              "    .dataframe tbody tr th {\n",
              "        vertical-align: top;\n",
              "    }\n",
              "\n",
              "    .dataframe thead th {\n",
              "        text-align: right;\n",
              "    }\n",
              "</style>\n",
              "<table border=\"1\" class=\"dataframe\">\n",
              "  <thead>\n",
              "    <tr style=\"text-align: right;\">\n",
              "      <th></th>\n",
              "      <th>has_test</th>\n",
              "      <th>salary_from</th>\n",
              "      <th>salary_to</th>\n",
              "    </tr>\n",
              "    <tr>\n",
              "      <th>area</th>\n",
              "      <th></th>\n",
              "      <th></th>\n",
              "      <th></th>\n",
              "    </tr>\n",
              "  </thead>\n",
              "  <tbody>\n",
              "    <tr>\n",
              "      <th>Тамбов</th>\n",
              "      <td>0.000000</td>\n",
              "      <td>150000.000000</td>\n",
              "      <td>250000.000000</td>\n",
              "    </tr>\n",
              "    <tr>\n",
              "      <th>Санкт-Петербург</th>\n",
              "      <td>0.047619</td>\n",
              "      <td>151250.000000</td>\n",
              "      <td>209285.714286</td>\n",
              "    </tr>\n",
              "    <tr>\n",
              "      <th>Москва</th>\n",
              "      <td>0.000000</td>\n",
              "      <td>162857.142857</td>\n",
              "      <td>187142.857143</td>\n",
              "    </tr>\n",
              "    <tr>\n",
              "      <th>Казань</th>\n",
              "      <td>0.000000</td>\n",
              "      <td>90000.000000</td>\n",
              "      <td>NaN</td>\n",
              "    </tr>\n",
              "    <tr>\n",
              "      <th>Новосибирск</th>\n",
              "      <td>0.000000</td>\n",
              "      <td>NaN</td>\n",
              "      <td>NaN</td>\n",
              "    </tr>\n",
              "    <tr>\n",
              "      <th>Самара</th>\n",
              "      <td>0.000000</td>\n",
              "      <td>NaN</td>\n",
              "      <td>NaN</td>\n",
              "    </tr>\n",
              "    <tr>\n",
              "      <th>Саратов</th>\n",
              "      <td>0.000000</td>\n",
              "      <td>NaN</td>\n",
              "      <td>NaN</td>\n",
              "    </tr>\n",
              "  </tbody>\n",
              "</table>\n",
              "</div>\n",
              "      <button class=\"colab-df-convert\" onclick=\"convertToInteractive('df-567bc1d3-abf7-40fb-9f6f-14f2b824d6e4')\"\n",
              "              title=\"Convert this dataframe to an interactive table.\"\n",
              "              style=\"display:none;\">\n",
              "        \n",
              "  <svg xmlns=\"http://www.w3.org/2000/svg\" height=\"24px\"viewBox=\"0 0 24 24\"\n",
              "       width=\"24px\">\n",
              "    <path d=\"M0 0h24v24H0V0z\" fill=\"none\"/>\n",
              "    <path d=\"M18.56 5.44l.94 2.06.94-2.06 2.06-.94-2.06-.94-.94-2.06-.94 2.06-2.06.94zm-11 1L8.5 8.5l.94-2.06 2.06-.94-2.06-.94L8.5 2.5l-.94 2.06-2.06.94zm10 10l.94 2.06.94-2.06 2.06-.94-2.06-.94-.94-2.06-.94 2.06-2.06.94z\"/><path d=\"M17.41 7.96l-1.37-1.37c-.4-.4-.92-.59-1.43-.59-.52 0-1.04.2-1.43.59L10.3 9.45l-7.72 7.72c-.78.78-.78 2.05 0 2.83L4 21.41c.39.39.9.59 1.41.59.51 0 1.02-.2 1.41-.59l7.78-7.78 2.81-2.81c.8-.78.8-2.07 0-2.86zM5.41 20L4 18.59l7.72-7.72 1.47 1.35L5.41 20z\"/>\n",
              "  </svg>\n",
              "      </button>\n",
              "      \n",
              "  <style>\n",
              "    .colab-df-container {\n",
              "      display:flex;\n",
              "      flex-wrap:wrap;\n",
              "      gap: 12px;\n",
              "    }\n",
              "\n",
              "    .colab-df-convert {\n",
              "      background-color: #E8F0FE;\n",
              "      border: none;\n",
              "      border-radius: 50%;\n",
              "      cursor: pointer;\n",
              "      display: none;\n",
              "      fill: #1967D2;\n",
              "      height: 32px;\n",
              "      padding: 0 0 0 0;\n",
              "      width: 32px;\n",
              "    }\n",
              "\n",
              "    .colab-df-convert:hover {\n",
              "      background-color: #E2EBFA;\n",
              "      box-shadow: 0px 1px 2px rgba(60, 64, 67, 0.3), 0px 1px 3px 1px rgba(60, 64, 67, 0.15);\n",
              "      fill: #174EA6;\n",
              "    }\n",
              "\n",
              "    [theme=dark] .colab-df-convert {\n",
              "      background-color: #3B4455;\n",
              "      fill: #D2E3FC;\n",
              "    }\n",
              "\n",
              "    [theme=dark] .colab-df-convert:hover {\n",
              "      background-color: #434B5C;\n",
              "      box-shadow: 0px 1px 3px 1px rgba(0, 0, 0, 0.15);\n",
              "      filter: drop-shadow(0px 1px 2px rgba(0, 0, 0, 0.3));\n",
              "      fill: #FFFFFF;\n",
              "    }\n",
              "  </style>\n",
              "\n",
              "      <script>\n",
              "        const buttonEl =\n",
              "          document.querySelector('#df-567bc1d3-abf7-40fb-9f6f-14f2b824d6e4 button.colab-df-convert');\n",
              "        buttonEl.style.display =\n",
              "          google.colab.kernel.accessAllowed ? 'block' : 'none';\n",
              "\n",
              "        async function convertToInteractive(key) {\n",
              "          const element = document.querySelector('#df-567bc1d3-abf7-40fb-9f6f-14f2b824d6e4');\n",
              "          const dataTable =\n",
              "            await google.colab.kernel.invokeFunction('convertToInteractive',\n",
              "                                                     [key], {});\n",
              "          if (!dataTable) return;\n",
              "\n",
              "          const docLinkHtml = 'Like what you see? Visit the ' +\n",
              "            '<a target=\"_blank\" href=https://colab.research.google.com/notebooks/data_table.ipynb>data table notebook</a>'\n",
              "            + ' to learn more about interactive tables.';\n",
              "          element.innerHTML = '';\n",
              "          dataTable['output_type'] = 'display_data';\n",
              "          await google.colab.output.renderOutput(dataTable, element);\n",
              "          const docLink = document.createElement('div');\n",
              "          docLink.innerHTML = docLinkHtml;\n",
              "          element.appendChild(docLink);\n",
              "        }\n",
              "      </script>\n",
              "    </div>\n",
              "  </div>\n",
              "  "
            ]
          },
          "metadata": {},
          "execution_count": 250
        }
      ],
      "source": [
        "df[df['vacancy'].str.contains('QA')].groupby('area').mean().nlargest(10, ['salary_to'])"
      ]
    },
    {
      "cell_type": "markdown",
      "metadata": {
        "id": "OGSSnECNyWlp"
      },
      "source": [
        "#### 5. Покажите динамику количества вакансии по месяцам даты создания."
      ]
    },
    {
      "cell_type": "code",
      "execution_count": null,
      "metadata": {
        "id": "Pawd8nwDyWlp"
      },
      "outputs": [],
      "source": [
        "format_date = '%Y-%m-%dT%H:%M:%S+0300'\n",
        "format_date_now = '%Y-%m-%d'"
      ]
    },
    {
      "cell_type": "code",
      "source": [
        "df.created = df.created.apply(lambda x: dt.datetime.strptime(x, format_date))\n",
        "# изменил дату из типа str в datetime для удобной работы"
      ],
      "metadata": {
        "id": "4PLCWBUvyg27"
      },
      "execution_count": null,
      "outputs": []
    },
    {
      "cell_type": "code",
      "source": [
        "df.groupby(df[\"created\"].dt.month).vacancy.count().plot(kind=\"bar\")"
      ],
      "metadata": {
        "colab": {
          "base_uri": "https://localhost:8080/",
          "height": 461
        },
        "id": "yWTOkGFSzQk6",
        "outputId": "b9e3c07e-3ce5-4a1d-878f-9d9c11ebcd36"
      },
      "execution_count": null,
      "outputs": [
        {
          "output_type": "execute_result",
          "data": {
            "text/plain": [
              "<Axes: xlabel='created'>"
            ]
          },
          "metadata": {},
          "execution_count": 270
        },
        {
          "output_type": "display_data",
          "data": {
            "text/plain": [
              "<Figure size 640x480 with 1 Axes>"
            ],
            "image/png": "[encoded data removed]"
          },
          "metadata": {}
        }
      ]
    },
    {
      "cell_type": "markdown",
      "metadata": {
        "id": "zZEQjXNEyWlq"
      },
      "source": [
        "#### 6. Напишите функцию для поиска вакансий по переданным в нее значениям заработной платы, наличия тестового задания, наличия заданного текста в наименовании вакансии, наличия заданного навыка. В результате выведите количество найденных вакансий, среднюю заработную плату по найденным вакансиям и список ссылок найденных вакансий. "
      ]
    },
    {
      "cell_type": "code",
      "execution_count": null,
      "metadata": {
        "colab": {
          "base_uri": "https://localhost:8080/"
        },
        "id": "jhKALcA9yWlq",
        "outputId": "87841752-265c-4ba4-c482-cdf7b5fe90d4"
      },
      "outputs": [
        {
          "output_type": "stream",
          "name": "stdout",
          "text": [
            "Количество вакансий:  8\n",
            "vacancy\n",
            "Backend - разработчик (Python)                                    220000.0\n",
            "Backend Developer Middle (Python)                                 170000.0\n",
            "Backend Python Developer (middle, team lead )                     200000.0\n",
            "Backend Senior разработчик Python / ведущий разработчик           300000.0\n",
            "Backend-разработчик (Python)                                      250000.0\n",
            "Middle Backend Developer (Web app, Python, FastAPI) / Удаленно    210000.0\n",
            "Web-разработчик / Backend программист Python                      180000.0\n",
            "Name: salary_to, dtype: float64\n",
            "['https://hh.ru/applicant/vacancy_response?vacancyId=46614391', 'https://hh.ru/applicant/vacancy_response?vacancyId=46124734', 'https://hh.ru/applicant/vacancy_response?vacancyId=43615645', 'https://hh.ru/applicant/vacancy_response?vacancyId=45125964', 'https://hh.ru/applicant/vacancy_response?vacancyId=45973716', 'https://hh.ru/applicant/vacancy_response?vacancyId=45872271', 'https://hh.ru/applicant/vacancy_response?vacancyId=46100698', 'https://hh.ru/applicant/vacancy_response?vacancyId=46090006']\n"
          ]
        }
      ],
      "source": [
        "def search_vacancy(salary, test, text, skill):\n",
        "  result = df[df['vacancy'].str.contains(text)]\n",
        "  result = result[result['skills'].str.contains(skill)]\n",
        "  result = result.loc[(result.has_test == test) & (result.salary_from <= salary) & (result.salary_to >= salary)]\n",
        "  print('Количество вакансий: ', result.vacancy.count())\n",
        "  print(result.groupby('vacancy').salary_to.mean())\n",
        "  print(list(result.url))\n",
        "search_vacancy(170000, False, 'Backend', 'Git')\n"
      ]
    },
    {
      "cell_type": "markdown",
      "metadata": {
        "id": "T1pkYLh4yWlq"
      },
      "source": [
        "#### *Необязательно*. Усложненный вариант - сделать атрибуты функции опциональными, чтобы иметь возможность фильтрации вакансий по любой комбинации условий."
      ]
    },
    {
      "cell_type": "code",
      "execution_count": null,
      "metadata": {
        "id": "9SuYNzbuyWlq"
      },
      "outputs": [],
      "source": [
        "# не разобрался что-то ^-^"
      ]
    }
  ],
  "metadata": {
    "kernelspec": {
      "display_name": "Python 3 (ipykernel)",
      "language": "python",
      "name": "python3"
    },
    "language_info": {
      "codemirror_mode": {
        "name": "ipython",
        "version": 3
      },
      "file_extension": ".py",
      "mimetype": "text/x-python",
      "name": "python",
      "nbconvert_exporter": "python",
      "pygments_lexer": "ipython3",
      "version": "3.9.13"
    },
    "colab": {
      "provenance": []
    }
  },
  "nbformat": 4,
  "nbformat_minor": 0
}